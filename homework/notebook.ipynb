{
 "cells": [
  {
   "cell_type": "code",
   "execution_count": 39,
   "id": "68624e00",
   "metadata": {},
   "outputs": [],
   "source": [
    "import os\n",
    "import pandas as pd\n",
    "import pickle\n",
    "import gzip\n",
    "from sklearn.pipeline import Pipeline\n",
    "from sklearn.compose import ColumnTransformer\n",
    "from sklearn.preprocessing import OneHotEncoder, MinMaxScaler\n",
    "from sklearn.feature_selection import SelectKBest, f_classif\n",
    "from sklearn.linear_model import LogisticRegression\n",
    "from sklearn.model_selection import GridSearchCV\n",
    "from sklearn.model_selection import KFold\n",
    "from sklearn.metrics import (\n",
    "    precision_score,\n",
    "    recall_score,\n",
    "    f1_score,\n",
    "    balanced_accuracy_score,\n",
    "    confusion_matrix,\n",
    ")\n",
    "import json\n",
    "from sklearn.metrics import make_scorer, balanced_accuracy_score\n",
    "\n",
    "\n",
    "# Configuración de rutas base del proyecto\n",
    "current_dir = os.getcwd()\n",
    "base_project_path = os.path.dirname(current_dir)"
   ]
  },
  {
   "cell_type": "code",
   "execution_count": 40,
   "id": "7e927fc8",
   "metadata": {},
   "outputs": [],
   "source": [
    "# Configuración de rutas base\n",
    "\n",
    "input_folder = os.path.join(base_project_path, \"files\", \"input\")\n",
    "train_file = os.path.join(input_folder, \"train_data.csv.zip\")\n",
    "test_file = os.path.join(input_folder, \"test_data.csv.zip\")\n",
    "\n",
    "# Cargar datasets\n",
    "df_train = pd.read_csv(train_file, compression='zip')\n",
    "df_test = pd.read_csv(test_file, compression='zip')"
   ]
  },
  {
   "cell_type": "code",
   "execution_count": 41,
   "id": "e84ee889",
   "metadata": {},
   "outputs": [
    {
     "name": "stdout",
     "output_type": "stream",
     "text": [
      "Train shape: (21000, 24)\n",
      "Test shape: (8979, 24)\n",
      "   LIMIT_BAL  SEX  EDUCATION  MARRIAGE  AGE  PAY_0  PAY_2  PAY_3  PAY_4  \\\n",
      "0     310000    1          3         1   32      0      0      0      0   \n",
      "1      10000    2          3         1   49     -1     -1     -2     -1   \n",
      "2      50000    1          2         1   28     -1     -1     -1      0   \n",
      "3      80000    2          3         1   52      2      2      3      3   \n",
      "4     270000    1          1         2   34      1      2      0      0   \n",
      "\n",
      "   PAY_5  ...  BILL_AMT4  BILL_AMT5  BILL_AMT6  PAY_AMT1  PAY_AMT2  PAY_AMT3  \\\n",
      "0      0  ...      84373      57779      14163      8295      6000      4000   \n",
      "1      2  ...       1690       1138        930         0         0      2828   \n",
      "2     -1  ...      45975       1300      43987         0     46257      2200   \n",
      "3      3  ...      40748      39816      40607      3700      1600      1600   \n",
      "4      2  ...      22448      15490      17343         0      4000      2000   \n",
      "\n",
      "   PAY_AMT4  PAY_AMT5  PAY_AMT6  default  \n",
      "0      3000      1000      2000        0  \n",
      "1         0       182         0        1  \n",
      "2      1300     43987      1386        0  \n",
      "3         0      1600      1600        1  \n",
      "4         0      2000      2000        0  \n",
      "\n",
      "[5 rows x 24 columns]\n"
     ]
    }
   ],
   "source": [
    "# Limpieza de columnas\n",
    "# Renombrar variable objetivo\n",
    "df_train = df_train.rename(columns={\"default payment next month\": \"default\"})\n",
    "df_test = df_test.rename(columns={\"default payment next month\": \"default\"})\n",
    "\n",
    "# Remover columna ID si existe\n",
    "if \"ID\" in df_train.columns:\n",
    "    df_train = df_train.drop(columns=[\"ID\"])\n",
    "if \"ID\" in df_test.columns:\n",
    "    df_test = df_test.drop(columns=[\"ID\"])\n",
    "\n",
    "# Eliminar registros con información no disponible\n",
    "df_train = df_train.dropna()\n",
    "df_test = df_test.dropna()\n",
    "\n",
    "# Ajuste de la columna EDUCATION\n",
    "# Valores > 4 se agrupan en \"others\" (por ejemplo 5 y 6 se pasan a 4)\n",
    "df_train[\"EDUCATION\"] = df_train[\"EDUCATION\"].apply(lambda x: x if x <= 4 else 4)\n",
    "df_test[\"EDUCATION\"] = df_test[\"EDUCATION\"].apply(lambda x: x if x <= 4 else 4)\n",
    "df_test = df_test.loc[df_test[\"MARRIAGE\"] != 0]\n",
    "df_test = df_test.loc[df_test[\"EDUCATION\"] != 0]\n",
    "\n",
    "# Verificar resultado\n",
    "print(\"Train shape:\", df_train.shape)\n",
    "print(\"Test shape:\", df_test.shape)\n",
    "print(df_train.head())"
   ]
  },
  {
   "cell_type": "code",
   "execution_count": 42,
   "id": "36349114",
   "metadata": {},
   "outputs": [],
   "source": [
    "# Paso 2: Dividir datasets en X e y\n",
    "\n",
    "# Variables explicativas\n",
    "x_train = df_train.drop(columns=[\"default\"])\n",
    "x_test = df_test.drop(columns=[\"default\"])\n",
    "\n",
    "# Variable objetivo\n",
    "y_train = df_train[\"default\"]\n",
    "y_test = df_test[\"default\"]"
   ]
  },
  {
   "cell_type": "code",
   "execution_count": 43,
   "id": "70d7a651",
   "metadata": {},
   "outputs": [
    {
     "name": "stdout",
     "output_type": "stream",
     "text": [
      "Fitting 10 folds for each of 2 candidates, totalling 20 fits\n",
      "Mejor score balanced_accuracy en CV: 0.6497876724646334\n",
      "Mejores parámetros: {'classifier__gamma': 0.099, 'pca__n_components': 20, 'select__k': 12}\n",
      "Score en conjunto de entrenamiento: 0.6643724562618379\n",
      "Score en conjunto de prueba: 0.6676664833488093\n"
     ]
    }
   ],
   "source": [
    "from sklearn.svm import SVC\n",
    "from sklearn.model_selection import GridSearchCV, KFold\n",
    "from sklearn.pipeline import Pipeline\n",
    "from sklearn.compose import ColumnTransformer\n",
    "from sklearn.preprocessing import OneHotEncoder, StandardScaler\n",
    "from sklearn.feature_selection import SelectKBest, f_classif\n",
    "from sklearn.decomposition import PCA\n",
    "\n",
    "# Columnas categóricas\n",
    "categorical_cols = ['SEX', 'EDUCATION', 'MARRIAGE']\n",
    "numerical_cols = [c for c in x_train.columns if c not in categorical_cols]\n",
    "\n",
    "# Preprocesamiento\n",
    "preprocessor = ColumnTransformer(transformers=[\n",
    "    ('cat', OneHotEncoder(handle_unknown='ignore'), categorical_cols),\n",
    "    ('std', StandardScaler(), numerical_cols)\n",
    "    ], remainder='passthrough'\n",
    "    )\n",
    "\n",
    "# Pipeline\n",
    "pipeline = Pipeline([\n",
    "    ('preprocessor', preprocessor),\n",
    "    ('pca', PCA()),\n",
    "    ('select', SelectKBest(f_classif)),\n",
    "    ('classifier', SVC(kernel = 'rbf', random_state=42, probability=True))\n",
    "])\n",
    "\n",
    "# GridSearchCV\n",
    "param_grid = {\n",
    "    'select__k': [12],\n",
    "    'pca__n_components': [20, 21],\n",
    "    'classifier__gamma': [0.099]\n",
    "}\n",
    "\n",
    "\n",
    "model = GridSearchCV(\n",
    "    estimator=pipeline,\n",
    "    param_grid=param_grid,\n",
    "    scoring='balanced_accuracy',\n",
    "    cv=10,\n",
    "    n_jobs=-1,\n",
    "    verbose=1,\n",
    "    refit=True,\n",
    "    return_train_score=False\n",
    ")\n",
    "\n",
    "# Entrenar\n",
    "model.fit(x_train, y_train)\n",
    "\n",
    "# Resultados\n",
    "print(\"Mejor score balanced_accuracy en CV:\", model.best_score_)\n",
    "print(\"Mejores parámetros:\", model.best_params_)\n",
    "\n",
    "# Score en train\n",
    "train_score = model.score(x_train, y_train)\n",
    "print(\"Score en conjunto de entrenamiento:\", train_score)\n",
    "\n",
    "# Score en test\n",
    "test_score = model.score(x_test, y_test)\n",
    "print(\"Score en conjunto de prueba:\", test_score)\n"
   ]
  },
  {
   "cell_type": "code",
   "execution_count": 44,
   "id": "d0a8a223",
   "metadata": {},
   "outputs": [
    {
     "name": "stdout",
     "output_type": "stream",
     "text": [
      "Modelo guardado correctamente en c:\\Descriptiva\\LAB-03-prediccion-del-default-usando-svc-jurodriguezra-ops\\files\\models\\model.pkl.gz\n"
     ]
    }
   ],
   "source": [
    "# Ruta para guardar el modelo\n",
    "model_path = os.path.join(base_project_path, \"files\", \"models\", \"model.pkl.gz\")\n",
    "\n",
    "# Crear carpeta si no existe\n",
    "os.makedirs(os.path.dirname(model_path), exist_ok=True)\n",
    "\n",
    "# Guardar modelo completo (GridSearchCV con pipeline incluido)\n",
    "with gzip.open(model_path, \"wb\") as f:\n",
    "    pickle.dump(model, f)\n",
    "\n",
    "print(f\"Modelo guardado correctamente en {model_path}\") "
   ]
  },
  {
   "cell_type": "code",
   "execution_count": 45,
   "id": "2752ff88",
   "metadata": {},
   "outputs": [
    {
     "name": "stdout",
     "output_type": "stream",
     "text": [
      "Métricas y matrices de confusión guardadas correctamente en c:\\Descriptiva\\LAB-03-prediccion-del-default-usando-svc-jurodriguezra-ops\\files\\output\\metrics.json\n"
     ]
    }
   ],
   "source": [
    "metrics_path = os.path.join(base_project_path, \"files\", \"output\", \"metrics.json\")\n",
    "os.makedirs(os.path.dirname(metrics_path), exist_ok=True)\n",
    "\n",
    "def compute_metrics_and_cm(y_true, y_pred, dataset_name):\n",
    "    cm = confusion_matrix(y_true, y_pred)\n",
    "    return [\n",
    "        {\n",
    "            \"type\": \"metrics\",\n",
    "            \"dataset\": dataset_name,\n",
    "            \"precision\": round(precision_score(y_true, y_pred), 10),\n",
    "            \"balanced_accuracy\": balanced_accuracy_score(y_true, y_pred),\n",
    "            \"recall\": recall_score(y_true, y_pred),\n",
    "            \"f1_score\": f1_score(y_true, y_pred),\n",
    "        }]\n",
    "\n",
    "def compute_cm (y_true, y_pred, dataset_name):\n",
    "    cm = confusion_matrix(y_true, y_pred)\n",
    "    return [{\n",
    "        \"type\": \"cm_matrix\",\n",
    "        \"dataset\": dataset_name,\n",
    "        \"true_0\": {\"predicted_0\": int(cm[0,0]), \"predicted_1\": int(cm[0,1])},\n",
    "        \"true_1\": {\"predicted_0\": int(cm[1,0]), \"predicted_1\": int(cm[1,1])},\n",
    "    }]\n",
    "\n",
    "# Calcular métricas y matrices de confusión\n",
    "metrics = []\n",
    "metrics += compute_metrics_and_cm(y_train, model.predict(x_train), \"train\")\n",
    "metrics += compute_metrics_and_cm(y_test, model.predict(x_test), \"test\")\n",
    "metrics += compute_cm(y_train, model.predict(x_train), \"train\")\n",
    "metrics += compute_cm(y_test, model.predict(x_test), \"test\")\n",
    "\n",
    "# Guardar todas las métricas en un solo archivo JSON\n",
    "with open(metrics_path, \"w\", encoding=\"utf-8\") as f:\n",
    "    for m in metrics:\n",
    "        f.write(json.dumps(m) + \"\\n\")\n",
    "\n",
    "print(f\"Métricas y matrices de confusión guardadas correctamente en {metrics_path}\")"
   ]
  }
 ],
 "metadata": {
  "kernelspec": {
   "display_name": ".venv (3.13.5)",
   "language": "python",
   "name": "python3"
  },
  "language_info": {
   "codemirror_mode": {
    "name": "ipython",
    "version": 3
   },
   "file_extension": ".py",
   "mimetype": "text/x-python",
   "name": "python",
   "nbconvert_exporter": "python",
   "pygments_lexer": "ipython3",
   "version": "3.13.5"
  }
 },
 "nbformat": 4,
 "nbformat_minor": 5
}
